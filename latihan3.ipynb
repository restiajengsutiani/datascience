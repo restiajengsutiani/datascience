{
 "cells": [
  {
   "cell_type": "markdown",
   "id": "7418302b",
   "metadata": {},
   "source": [
    "## Exercises"
   ]
  },
  {
   "cell_type": "markdown",
   "id": "d50f0b43",
   "metadata": {},
   "source": [
    "Let's try out these operations with the [Iris data set obtained from DataHub](https://datahub.io/machine-learning/iris#resource-iris).\n",
    "\n",
    "Download the `iris_csv.csv` dataset into your working directory and then proceed with the questions below."
   ]
  },
  {
   "cell_type": "code",
   "execution_count": null,
   "id": "8ec24985",
   "metadata": {},
   "outputs": [],
   "source": [
    "# We should always start with the import, although it may have been run above\n",
    "import pandas as pd"
   ]
  },
  {
   "cell_type": "code",
   "execution_count": null,
   "id": "a6b77668",
   "metadata": {},
   "outputs": [],
   "source": [
    "# read the data into a dataframe called irisdf\n",
    "irisdf = pd.read_csv('iris_csv.csv')\n",
    "irisdf[irisdf.duplicated()==True]"
   ]
  },
  {
   "cell_type": "markdown",
   "id": "bd1d1f8f",
   "metadata": {},
   "source": [
    "**Q1. Display Data**\n",
    "\n",
    "Display the first 8 rows of the `DataFrame` object `irisdf`"
   ]
  },
  {
   "cell_type": "code",
   "execution_count": null,
   "id": "d80fb5ed",
   "metadata": {},
   "outputs": [],
   "source": [
    "# Q1 answer\n",
    "print(irisdf.head(8))"
   ]
  },
  {
   "cell_type": "markdown",
   "id": "70ea54ae",
   "metadata": {},
   "source": [
    " **Q2. Basic Exploration**\n",
    " \n",
    " Explore the data using the methods `info()` and `describe()`"
   ]
  },
  {
   "cell_type": "code",
   "execution_count": null,
   "id": "2713fd1e",
   "metadata": {},
   "outputs": [],
   "source": [
    "# Q2 view information about the data frame\n",
    "\n",
    "# use the info() method\n",
    "irisdf.info()"
   ]
  },
  {
   "cell_type": "code",
   "execution_count": null,
   "id": "9b2f020c",
   "metadata": {},
   "outputs": [],
   "source": [
    "# Q2 view information about the data frame\n",
    "\n",
    "# use the describe() method\n",
    "irisdf.describe()"
   ]
  },
  {
   "cell_type": "markdown",
   "id": "67c27f80",
   "metadata": {},
   "source": [
    "**Q3. Show Columns**\n",
    "\n",
    "Show the names of the columns"
   ]
  },
  {
   "cell_type": "code",
   "execution_count": null,
   "id": "8f44ec03",
   "metadata": {},
   "outputs": [],
   "source": [
    "# Q3 answer\n",
    "column_irisdf =  irisdf.columns\n",
    "\n",
    "print(column_irisdf)"
   ]
  },
  {
   "cell_type": "markdown",
   "id": "1c781735",
   "metadata": {},
   "source": [
    "**Q4. Show Frequency**\n",
    "\n",
    "Find how many observations there are for each unique value of `class`."
   ]
  },
  {
   "cell_type": "code",
   "execution_count": null,
   "id": "1c0e6969",
   "metadata": {},
   "outputs": [],
   "source": [
    "# Q4 answer\n",
    "class_counts = irisdf['class'].value_counts()\n",
    "print(class_counts)"
   ]
  },
  {
   "cell_type": "markdown",
   "id": "2b0a2189",
   "metadata": {},
   "source": [
    "**Q5. Grouping**\n",
    "\n",
    "Using the `groupby()` method, find the means of the numeric values by class."
   ]
  },
  {
   "cell_type": "code",
   "execution_count": null,
   "id": "6b1770d9",
   "metadata": {},
   "outputs": [],
   "source": [
    "# Q5 answer\n",
    "means_by_class = irisdf.groupby('class').mean()\n",
    "print(means_by_class)"
   ]
  }
 ],
 "metadata": {
  "kernelspec": {
   "display_name": "Python 3 (ipykernel)",
   "language": "python",
   "name": "python3"
  },
  "language_info": {
   "codemirror_mode": {
    "name": "ipython",
    "version": 3
   },
   "file_extension": ".py",
   "mimetype": "text/x-python",
   "name": "python",
   "nbconvert_exporter": "python",
   "pygments_lexer": "ipython3",
   "version": "3.11.4"
  }
 },
 "nbformat": 4,
 "nbformat_minor": 5
}
