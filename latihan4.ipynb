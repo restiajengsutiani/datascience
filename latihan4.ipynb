{
 "cells": [
  {
   "cell_type": "markdown",
   "id": "7418302b",
   "metadata": {},
   "source": [
    "## Exercises"
   ]
  },
  {
   "cell_type": "markdown",
   "id": "d50f0b43",
   "metadata": {},
   "source": [
    "Let's try out these data wrangling operations with the Iris dataset.\n",
    "\n",
    "You should have downloaded the iris_csv.csv dataset into your working directory from the previous exercise. "
   ]
  },
  {
   "cell_type": "code",
   "execution_count": null,
   "id": "8ec24985",
   "metadata": {},
   "outputs": [],
   "source": [
    "# We should always start with the import, although it may have been run above\n",
    "import pandas as pd"
   ]
  },
  {
   "cell_type": "code",
   "execution_count": null,
   "id": "a6b77668",
   "metadata": {},
   "outputs": [],
   "source": [
    "# read the data into a dataframe called irisdf\n",
    "irisdf = pd.read_csv('iris_csv.csv')"
   ]
  },
  {
   "cell_type": "markdown",
   "id": "bd1d1f8f",
   "metadata": {},
   "source": [
    "**Q1. Missing Values**\n",
    "\n",
    "Check if there are any missing values in the `irisdf` data set."
   ]
  },
  {
   "cell_type": "code",
   "execution_count": null,
   "id": "d80fb5ed",
   "metadata": {},
   "outputs": [],
   "source": [
    "# Q1 Answer\n",
    "missing_values = irisdf.isna().sum()\n",
    "print(missing_values)"
   ]
  },
  {
   "cell_type": "markdown",
   "id": "67c27f80",
   "metadata": {},
   "source": [
    "**Q2. Find Duplicates**\n",
    "\n",
    "There are three duplicate rows, display the rows."
   ]
  },
  {
   "cell_type": "code",
   "execution_count": null,
   "id": "8f44ec03",
   "metadata": {},
   "outputs": [],
   "source": [
    "#Q2 Answer\n",
    "duplicate_rows = irisdf[irisdf.duplicated()]\n",
    "print(duplicate_rows)"
   ]
  },
  {
   "cell_type": "markdown",
   "id": "1c781735",
   "metadata": {},
   "source": [
    "**Q3. Calculate Mean**\n",
    "\n",
    "Find the mean `sepallength` and store it in a variable called `mean_sepallength`"
   ]
  },
  {
   "cell_type": "code",
   "execution_count": null,
   "id": "1c0e6969",
   "metadata": {},
   "outputs": [],
   "source": [
    "#Q3 answer\n",
    "mean_sepallength = irisdf['sepallength'].mean()\n",
    "\n",
    "print(\"Mean Sepal Length:\", mean_sepallength)"
   ]
  },
  {
   "cell_type": "markdown",
   "id": "2b0a2189",
   "metadata": {},
   "source": [
    "**Q4. Set Value**\n",
    "\n",
    "Set the `sepallength` of the row with index 34 to the mean value found."
   ]
  },
  {
   "cell_type": "code",
   "execution_count": null,
   "id": "79f69216",
   "metadata": {},
   "outputs": [],
   "source": [
    "# Q4 Answer\n",
    "irisdf.at[34, 'sepallength'] = mean_sepallength\n",
    "\n",
    "print(irisdf.loc[34])"
   ]
  },
  {
   "cell_type": "markdown",
   "id": "de6ccd50",
   "metadata": {},
   "source": [
    "Check whether the number of duplicate rows has decreased by displaying the duplicated rows again. You can execute your answer to Q2 again) "
   ]
  },
  {
   "cell_type": "markdown",
   "id": "ce55efd1",
   "metadata": {},
   "source": [
    "**Q5. Drop Duplicates**\n",
    "\n",
    "Drop the rows with duplicates"
   ]
  },
  {
   "cell_type": "code",
   "execution_count": null,
   "id": "49f22dd9",
   "metadata": {},
   "outputs": [],
   "source": [
    "# Q5 answer\n",
    "irisdf = irisdf.drop_duplicates()\n",
    "\n",
    "irisdf = irisdf.reset_index(drop=True)\n",
    "\n",
    "print(irisdf)"
   ]
  },
  {
   "cell_type": "markdown",
   "id": "2bec62a9",
   "metadata": {},
   "source": [
    "Now check if there are any more duplicate values by running your answer to Q2 again."
   ]
  },
  {
   "cell_type": "markdown",
   "id": "d3b063f1",
   "metadata": {},
   "source": [
    "**Q6. Set as NA**\n",
    "\n",
    "Set the `sepalwidth` of the row with index 34 to `pd.NA` (which is pandas for NULL value)"
   ]
  },
  {
   "cell_type": "code",
   "execution_count": null,
   "id": "a02c4be6",
   "metadata": {},
   "outputs": [],
   "source": [
    "# Q6 Answer\n",
    "irisdf.at[34, 'sepalwidth'] = pd.NA"
   ]
  },
  {
   "cell_type": "markdown",
   "id": "34a740f9",
   "metadata": {},
   "source": [
    "We should be able to view the contents of the row with index 34 using the `loc` attribute:"
   ]
  },
  {
   "cell_type": "code",
   "execution_count": null,
   "id": "5e7f8d6e",
   "metadata": {},
   "outputs": [],
   "source": [
    "print(irisdf.loc[34])"
   ]
  },
  {
   "cell_type": "markdown",
   "id": "289d4ff9",
   "metadata": {},
   "source": [
    "**Q7. Find Rows with Missing Values**\n",
    "\n",
    "Find the rows with *any* NA values"
   ]
  },
  {
   "cell_type": "code",
   "execution_count": null,
   "id": "de296f90",
   "metadata": {},
   "outputs": [],
   "source": [
    "# Q7 Answer\n",
    "rows_with_na = irisdf[irisdf.isna().any(axis=1)]\n",
    "print(rows_with_na)\n",
    "# Find the rows with any 'na' values, by row (axis = 1 indicates to check row by row)\n",
    "\n"
   ]
  },
  {
   "cell_type": "markdown",
   "id": "6fcd7520",
   "metadata": {},
   "source": [
    "**Q8. Drop Rows with Missing Values**\n",
    "\n",
    "Now drop the rows with missing values with the argument `inplace = True`"
   ]
  },
  {
   "cell_type": "code",
   "execution_count": null,
   "id": "45548974",
   "metadata": {},
   "outputs": [],
   "source": [
    "# Q8 answer\n",
    "irisdf.dropna(inplace=True)"
   ]
  },
  {
   "cell_type": "markdown",
   "id": "55cf88ff",
   "metadata": {},
   "source": [
    "Check whether there are any more rows with NA values by running your answer to Q7 again."
   ]
  }
 ],
 "metadata": {
  "kernelspec": {
   "display_name": "Python 3 (ipykernel)",
   "language": "python",
   "name": "python3"
  },
  "language_info": {
   "codemirror_mode": {
    "name": "ipython",
    "version": 3
   },
   "file_extension": ".py",
   "mimetype": "text/x-python",
   "name": "python",
   "nbconvert_exporter": "python",
   "pygments_lexer": "ipython3",
   "version": "3.11.4"
  }
 },
 "nbformat": 4,
 "nbformat_minor": 5
}
