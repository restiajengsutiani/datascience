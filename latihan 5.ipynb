{
 "cells": [
  {
   "cell_type": "markdown",
   "id": "8cc11e40",
   "metadata": {},
   "source": [
    "## Exercises\n",
    "\n",
    "Let's try some exercises with the `Iris` data set."
   ]
  },
  {
   "cell_type": "code",
   "execution_count": null,
   "id": "7e63eef2",
   "metadata": {},
   "outputs": [],
   "source": [
    "import pandas as pd\n",
    "import matplotlib.pyplot as plt\n",
    "%matplotlib inline\n",
    "\n",
    "# read the data into a dataframe called irisdf\n",
    "irisdf = pd.read_csv('iris_csv.csv')\n",
    "irisdf.head()"
   ]
  },
  {
   "cell_type": "markdown",
   "id": "282c4d57",
   "metadata": {},
   "source": [
    "**Q1. Basic Scatter Plot**\n",
    "\n",
    "Create a scatter plot with `sepallength` data on the x-axis and `sepalwidth` data on the y-axis, with red dots and no lines. \n",
    "\n",
    "Add a title and label the x-axis and y-axis accordingly."
   ]
  },
  {
   "cell_type": "code",
   "execution_count": null,
   "id": "136fba32",
   "metadata": {},
   "outputs": [],
   "source": [
    "# Q1 answer\n",
    "plt.scatter(irisdf['sepallength'], irisdf['sepalwidth'], color='red', marker='o', label='Data Points')\n",
    "\n",
    "\n",
    "plt.xlabel('Sepal Length')\n",
    "plt.ylabel('Sepal Width')\n",
    "\n",
    "\n",
    "plt.title('Scatter Plot of Sepal Length vs. Sepal Width')\n",
    "\n",
    "plt.legend()\n",
    "\n",
    "plt.show()"
   ]
  },
  {
   "cell_type": "markdown",
   "id": "e499dd27",
   "metadata": {},
   "source": [
    "Let's use the `value_counts()` function to determine the number of `class` of Iris in the data frame."
   ]
  },
  {
   "cell_type": "code",
   "execution_count": null,
   "id": "0560a339",
   "metadata": {},
   "outputs": [],
   "source": [
    "irisdf['class'].value_counts()\n"
   ]
  },
  {
   "cell_type": "markdown",
   "id": "8686b38a",
   "metadata": {},
   "source": [
    "**Q2. Create Subsets** \n",
    "\n",
    "Separate the three classes into three data sets, `setosa`, `versicolor`, and  `virginica`"
   ]
  },
  {
   "cell_type": "code",
   "execution_count": null,
   "id": "4e0a242f",
   "metadata": {},
   "outputs": [],
   "source": [
    "# Q2 answer\n",
    "setosa = irisdf[irisdf['class'] == 'setosa']\n",
    "versicolor = irisdf[irisdf['class'] == 'versicolor']\n",
    "virginica = irisdf[irisdf['class'] == 'virginica']\n",
    "\n",
    "print(\"Setosa:\")\n",
    "print(setosa.head())\n",
    "print(\"\\nVersicolor:\")\n",
    "print(versicolor.head())\n",
    "print(\"\\nVirginica:\")\n",
    "print(virginica.head())"
   ]
  },
  {
   "cell_type": "markdown",
   "id": "90dc106c",
   "metadata": {},
   "source": [
    "**Q3. Create Scatter Plot**\n",
    "\n",
    "Create the scatter plot to compare the `sepallength` and `sepalwidth` of the three clases. \n",
    "\n",
    "Make the points semi-transparent by setting an alpha value less than 1.\n",
    "\n",
    "Add a legend to show the names of the three classes."
   ]
  },
  {
   "cell_type": "code",
   "execution_count": null,
   "id": "e96c4dbf",
   "metadata": {},
   "outputs": [],
   "source": [
    "# Q3 answer\n",
    "# Memisahkan data berdasarkan kelas\n",
    "setosa_data = irisdf[irisdf['class'] == 'Iris-setosa']\n",
    "versicolor_data = irisdf[irisdf['class'] == 'Iris-versicolor']\n",
    "virginica_data = irisdf[irisdf['class'] == 'Iris-virginica']\n",
    "\n",
    "# Membuat scatter plot\n",
    "plt.scatter(setosa_data['sepallength'], setosa_data['sepalwidth'], label='Setosa', alpha=0.7)\n",
    "plt.scatter(versicolor_data['sepallength'], versicolor_data['sepalwidth'], label='Versicolor', alpha=0.7)\n",
    "plt.scatter(virginica_data['sepallength'], virginica_data['sepalwidth'], label='Virginica', alpha=0.7)\n",
    "\n",
    "# Menambahkan legenda\n",
    "plt.legend()\n",
    "\n",
    "# Menambahkan label sumbu\n",
    "plt.xlabel('Sepal Length')\n",
    "plt.ylabel('Sepal Width')\n",
    "\n",
    "# Menampilkan plot\n",
    "plt.show()"
   ]
  }
 ],
 "metadata": {
  "kernelspec": {
   "display_name": "Python 3 (ipykernel)",
   "language": "python",
   "name": "python3"
  },
  "language_info": {
   "codemirror_mode": {
    "name": "ipython",
    "version": 3
   },
   "file_extension": ".py",
   "mimetype": "text/x-python",
   "name": "python",
   "nbconvert_exporter": "python",
   "pygments_lexer": "ipython3",
   "version": "3.11.4"
  }
 },
 "nbformat": 4,
 "nbformat_minor": 5
}
